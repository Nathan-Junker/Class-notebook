{
 "cells": [
  {
   "cell_type": "markdown",
   "id": "bf29eaec",
   "metadata": {},
   "source": [
    "## Practice Questions Dictionary and List"
   ]
  },
  {
   "cell_type": "markdown",
   "id": "2e122459",
   "metadata": {},
   "source": [
    "### List reverse"
   ]
  },
  {
   "cell_type": "code",
   "execution_count": 3,
   "id": "d19a2eb2",
   "metadata": {},
   "outputs": [
    {
     "data": {
      "text/plain": [
       "[43, 12, 23, 45, 67, 34]"
      ]
     },
     "execution_count": 3,
     "metadata": {},
     "output_type": "execute_result"
    }
   ],
   "source": [
    "Lista=[34,67,45,23,12,43]\n",
    "\n",
    "Lista[::-1]\n"
   ]
  },
  {
   "cell_type": "markdown",
   "id": "b312a293",
   "metadata": {},
   "source": [
    "### Convert the lists to dictionary\n",
    "* keys = ['Ten', 'Twenty', 'Thirty']\n",
    "* values = [10, 20, 30]"
   ]
  },
  {
   "cell_type": "code",
   "execution_count": 8,
   "id": "5a3532c6",
   "metadata": {},
   "outputs": [
    {
     "data": {
      "text/plain": [
       "{'Ten': 10, 'Twenty': 20, 'Thirty': 30}"
      ]
     },
     "execution_count": 8,
     "metadata": {},
     "output_type": "execute_result"
    }
   ],
   "source": [
    "keys = ['Ten', 'Twenty', 'Thirty']\n",
    "values = [10, 20, 30]\n",
    "\n",
    "dict(zip(keys,values)) \n",
    "#this is the answer"
   ]
  },
  {
   "cell_type": "code",
   "execution_count": 9,
   "id": "223755e0",
   "metadata": {},
   "outputs": [
    {
     "data": {
      "text/plain": [
       "[('Ten', 10), ('Twenty', 20), ('Thirty', 30)]"
      ]
     },
     "execution_count": 9,
     "metadata": {},
     "output_type": "execute_result"
    }
   ],
   "source": [
    "list(zip(keys,values))"
   ]
  },
  {
   "cell_type": "code",
   "execution_count": 7,
   "id": "b622d9a6",
   "metadata": {},
   "outputs": [
    {
     "data": {
      "text/plain": [
       "(('Ten', 10), ('Twenty', 20), ('Thirty', 30))"
      ]
     },
     "execution_count": 7,
     "metadata": {},
     "output_type": "execute_result"
    }
   ],
   "source": [
    "tuple(zip(keys,values))"
   ]
  },
  {
   "cell_type": "markdown",
   "id": "10d3e10b",
   "metadata": {},
   "source": [
    "### Marge the following two dictionaries and keep the original dictionaries as it is\n",
    "* dict0 = {'Ten': 10, 'Twenty': 20, 'Thirty': 30}\n",
    "* dict1 = {'Thirty': 30, 'Fourty': 40, 'Fifty': 50}"
   ]
  },
  {
   "cell_type": "code",
   "execution_count": 10,
   "id": "b5dfda6b",
   "metadata": {},
   "outputs": [],
   "source": [
    "dict0 = {'Ten': 10, 'Twenty': 20, 'Thirty': 30}\n",
    "dict1 = {'Thirty': 30, 'Fourty': 40, 'Fifty': 50}\n"
   ]
  },
  {
   "cell_type": "code",
   "execution_count": 11,
   "id": "fd86bd02",
   "metadata": {},
   "outputs": [],
   "source": [
    "dict2=dict0.copy()"
   ]
  },
  {
   "cell_type": "code",
   "execution_count": 13,
   "id": "50121b9c",
   "metadata": {},
   "outputs": [
    {
     "name": "stdout",
     "output_type": "stream",
     "text": [
      "{'Ten': 10, 'Twenty': 20, 'Thirty': 30}\n"
     ]
    }
   ],
   "source": [
    "print(dict2)"
   ]
  },
  {
   "cell_type": "code",
   "execution_count": 14,
   "id": "4b0960fe",
   "metadata": {},
   "outputs": [
    {
     "name": "stdout",
     "output_type": "stream",
     "text": [
      "{'Ten': 10, 'Twenty': 20, 'Thirty': 30, 'Fourty': 40, 'Fifty': 50}\n"
     ]
    }
   ],
   "source": [
    "dict2.update(dict1)\n",
    "print(dict2)\n",
    "#did not include duplicate key-value pair"
   ]
  },
  {
   "cell_type": "markdown",
   "id": "0ce25abc",
   "metadata": {},
   "source": [
    "### Access 70 from dictionary\n",
    " * Dict3 = { \"class\":{ \"student\":{ \"subject\":{ \"physics\":70,\"history\":80}}}}"
   ]
  },
  {
   "cell_type": "code",
   "execution_count": 17,
   "id": "03b473f6",
   "metadata": {},
   "outputs": [],
   "source": [
    "Dict3 = { \"class\":{ \"student\":{ \"subject\":{ \"physics\":70,\"history\":80}}}}"
   ]
  },
  {
   "cell_type": "code",
   "execution_count": 23,
   "id": "f4346b0b",
   "metadata": {},
   "outputs": [
    {
     "name": "stdout",
     "output_type": "stream",
     "text": [
      "70\n"
     ]
    }
   ],
   "source": [
    "print(Dict3[\"class\"]['student'][\"subject\"][\"physics\"])"
   ]
  },
  {
   "cell_type": "markdown",
   "id": "56ba4a6d",
   "metadata": {},
   "source": [
    " Dict4 = {\n",
    "  \"name\": \"Mark\",\n",
    "  \"age\":21,\n",
    "  \"College\": \"Junior\",\n",
    "  \"city\": \"Atlanta\"}\n",
    " * Extract keys = [\"name\", \"city\"]\n",
    " * Expecte output: {'name': 'Mark', 'city': 'Atlanta'}\n",
    " "
   ]
  },
  {
   "cell_type": "code",
   "execution_count": 24,
   "id": "bfc5e6f7",
   "metadata": {},
   "outputs": [
    {
     "name": "stdout",
     "output_type": "stream",
     "text": [
      "{'name': 'Mark'}\n",
      "{'city': 'Atlanta'}\n"
     ]
    }
   ],
   "source": [
    "Dict4 = { \"name\": \"Mark\", \"age\":21, \"College\": \"Junior\", \"city\": \"Atlanta\"}\n",
    "keys=[\"name\", \"city\"]\n",
    "for K in keys:\n",
    "    print({K:Dict4[K]})"
   ]
  },
  {
   "cell_type": "code",
   "execution_count": null,
   "id": "98815e7b",
   "metadata": {},
   "outputs": [],
   "source": []
  },
  {
   "cell_type": "markdown",
   "id": "85656c3d",
   "metadata": {},
   "source": [
    "### Dict7 = {'a': 100, 'b': 200, 'c': 300}\n",
    " * Check if value 200 is present or not "
   ]
  },
  {
   "cell_type": "code",
   "execution_count": 25,
   "id": "bc741055",
   "metadata": {},
   "outputs": [],
   "source": [
    "Dict7 = {'a': 100, 'b': 200, 'c': 300}"
   ]
  },
  {
   "cell_type": "code",
   "execution_count": 26,
   "id": "c143d677",
   "metadata": {},
   "outputs": [
    {
     "name": "stdout",
     "output_type": "stream",
     "text": [
      "200 is included\n"
     ]
    }
   ],
   "source": [
    "for I in Dict7.values():\n",
    "    if I == 200:\n",
    "        print(\"200 is included\")"
   ]
  },
  {
   "cell_type": "code",
   "execution_count": 28,
   "id": "0cf62cd3",
   "metadata": {},
   "outputs": [
    {
     "name": "stdout",
     "output_type": "stream",
     "text": [
      "True\n"
     ]
    }
   ],
   "source": [
    "print(200 in Dict7.values())"
   ]
  },
  {
   "cell_type": "code",
   "execution_count": 30,
   "id": "d4c6a9b6",
   "metadata": {},
   "outputs": [
    {
     "name": "stdout",
     "output_type": "stream",
     "text": [
      "False\n"
     ]
    }
   ],
   "source": [
    "print(400 in Dict7.values())\n"
   ]
  },
  {
   "cell_type": "code",
   "execution_count": 31,
   "id": "73431040",
   "metadata": {},
   "outputs": [
    {
     "name": "stdout",
     "output_type": "stream",
     "text": [
      "True\n"
     ]
    }
   ],
   "source": []
  },
  {
   "cell_type": "code",
   "execution_count": null,
   "id": "84447d8c",
   "metadata": {},
   "outputs": [],
   "source": []
  },
  {
   "cell_type": "markdown",
   "id": "5b60bfb1",
   "metadata": {},
   "source": [
    "### check the key 'c' is present in the dict or not"
   ]
  },
  {
   "cell_type": "code",
   "execution_count": 32,
   "id": "948e3631",
   "metadata": {},
   "outputs": [
    {
     "name": "stdout",
     "output_type": "stream",
     "text": [
      "True\n"
     ]
    }
   ],
   "source": [
    "print(\"c\" in Dict7.keys())"
   ]
  },
  {
   "cell_type": "code",
   "execution_count": null,
   "id": "eedc5f9e",
   "metadata": {},
   "outputs": [],
   "source": []
  },
  {
   "cell_type": "markdown",
   "id": "3f28f383",
   "metadata": {},
   "source": [
    "###  Update Brad’s salary to 7500 \n",
    "* sampleDict = {\n",
    "     'emp1': {'name': 'Jhon', 'salary': 5500},\n",
    "     'emp2': {'name': 'Emma', 'salary': 7000},\n",
    "     'emp3': {'name': 'Brad', 'salary': 6500}\n",
    "}"
   ]
  },
  {
   "cell_type": "code",
   "execution_count": 35,
   "id": "42395758",
   "metadata": {},
   "outputs": [
    {
     "name": "stdout",
     "output_type": "stream",
     "text": [
      "7500\n"
     ]
    }
   ],
   "source": [
    "sampleDict = { 'emp1': {'name': 'Jhon', 'salary': 5500},\n",
    "              'emp2': {'name': 'Emma', 'salary': 7000},\n",
    "              'emp3': {'name': 'Brad', 'salary': 6500} }\n",
    "sampleDict[\"emp3\"][\"salary\"]= 7500\n",
    "print(sampleDict[\"emp3\"][\"salary\"])"
   ]
  },
  {
   "cell_type": "code",
   "execution_count": null,
   "id": "a6364ddd",
   "metadata": {},
   "outputs": [],
   "source": []
  },
  {
   "cell_type": "markdown",
   "id": "8a44a9fd",
   "metadata": {},
   "source": [
    "### Find who is younger\n",
    "Dict9 = {\n",
    "  'Sam': 82,\n",
    "  'Harry': 65,\n",
    "  'Jack': 75\n",
    "}"
   ]
  },
  {
   "cell_type": "code",
   "execution_count": 38,
   "id": "5ea66059",
   "metadata": {},
   "outputs": [],
   "source": [
    "Dict9 = { 'Sam': 82, 'Harry': 65, 'Jack': 75 }"
   ]
  },
  {
   "cell_type": "code",
   "execution_count": 40,
   "id": "6fda5fce",
   "metadata": {},
   "outputs": [
    {
     "name": "stdout",
     "output_type": "stream",
     "text": [
      "65\n"
     ]
    }
   ],
   "source": [
    "temp=(min(Dict9.values()))\n",
    "print(temp)"
   ]
  },
  {
   "cell_type": "code",
   "execution_count": 42,
   "id": "1fae8c37",
   "metadata": {},
   "outputs": [
    {
     "name": "stdout",
     "output_type": "stream",
     "text": [
      "Harry\n"
     ]
    }
   ],
   "source": [
    "for key in Dict9.keys():\n",
    "    if Dict9[key]==temp:\n",
    "        print(key)"
   ]
  },
  {
   "cell_type": "code",
   "execution_count": 44,
   "id": "900dff6a",
   "metadata": {},
   "outputs": [
    {
     "name": "stdout",
     "output_type": "stream",
     "text": [
      "82\n"
     ]
    }
   ],
   "source": [
    "Temp=max(Dict9.values())\n",
    "print(Temp)\n",
    "\n"
   ]
  },
  {
   "cell_type": "code",
   "execution_count": 45,
   "id": "604fbe84",
   "metadata": {},
   "outputs": [
    {
     "name": "stdout",
     "output_type": "stream",
     "text": [
      "Sam\n"
     ]
    }
   ],
   "source": [
    "for key in Dict9.keys():\n",
    "    if Dict9[key]== Temp:\n",
    "        print(key)"
   ]
  },
  {
   "cell_type": "code",
   "execution_count": null,
   "id": "8c8155ac",
   "metadata": {},
   "outputs": [],
   "source": []
  },
  {
   "cell_type": "markdown",
   "id": "131bf3b1",
   "metadata": {},
   "source": [
    "### Update **city to location**\n",
    " Dict10 = {\n",
    "  \"name\": \"Mark\",\n",
    "  \"age\":21,\n",
    "  \"College\": \"Junior\",\n",
    "  \"city\": \"Atlanta\"}\n"
   ]
  },
  {
   "cell_type": "code",
   "execution_count": 53,
   "id": "a89051ea",
   "metadata": {},
   "outputs": [
    {
     "name": "stdout",
     "output_type": "stream",
     "text": [
      "{'name': 'Mark', 'age': 21, 'College': 'Junior', 'location': 'Atlanta'}\n"
     ]
    }
   ],
   "source": [
    "Dict10 = { \"name\": \"Mark\", \"age\":21, \"College\": \"Junior\", \"city\": \"Atlanta\"}\n",
    "Dict10[\"location\"]= Dict10.pop(\"city\")\n",
    "print(Dict10)\n"
   ]
  },
  {
   "cell_type": "code",
   "execution_count": null,
   "id": "4b0b4f3f",
   "metadata": {},
   "outputs": [],
   "source": []
  }
 ],
 "metadata": {
  "kernelspec": {
   "display_name": "Python 3 (ipykernel)",
   "language": "python",
   "name": "python3"
  },
  "language_info": {
   "codemirror_mode": {
    "name": "ipython",
    "version": 3
   },
   "file_extension": ".py",
   "mimetype": "text/x-python",
   "name": "python",
   "nbconvert_exporter": "python",
   "pygments_lexer": "ipython3",
   "version": "3.9.12"
  }
 },
 "nbformat": 4,
 "nbformat_minor": 5
}
