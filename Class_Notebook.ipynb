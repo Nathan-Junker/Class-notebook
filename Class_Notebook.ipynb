{
 "cells": [
  {
   "cell_type": "markdown",
   "id": "93b7901f",
   "metadata": {},
   "source": [
    "# Ch9 Classes"
   ]
  },
  {
   "cell_type": "markdown",
   "id": "867f32c6",
   "metadata": {},
   "source": [
    "### Python is an object oriented programming language.\n",
    "- Almost everything in Python is an object, with its properties and methods (Functions).\n",
    "- A Class is like an object constructor, or a \"blueprint\" for creating objects."
   ]
  },
  {
   "cell_type": "code",
   "execution_count": 16,
   "id": "352499a6",
   "metadata": {},
   "outputs": [
    {
     "name": "stdout",
     "output_type": "stream",
     "text": [
      "Peter\n",
      "White\n",
      "Empolyee full name: Peter White\n",
      "Empolyee full name: Angle Hill\n"
     ]
    }
   ],
   "source": [
    "class Employee():\n",
    "    #init is the constructor of the class\n",
    "    #self is used to represent the instance of a calss\n",
    "    def __init__(self, first, last, age, dep): #method/function\n",
    "        self.first=first.title()\n",
    "        self.last=last.title()\n",
    "        self.age=age\n",
    "        self.dep=dep.title()\n",
    "    def fullname(self):\n",
    "        return(f\"Empolyee full name: {self.first} {self.last}\")\n",
    "        \n",
    "emp_1=Employee(\"angle\", \"hill\", 32, \"accounting\")\n",
    "emp_2=Employee(\"Peter\", \"White\", 35, \"finance\")\n",
    "\n",
    "print(emp_2.first)\n",
    "print(emp_2.last)\n",
    "print(emp_2.fullname()) #need () after fullname because it is a method/function\n",
    "\n",
    "print(emp_1.fullname())\n",
    "#print(f\"Empolyee full name: {emp_2.first} {emp_2.last}\")"
   ]
  },
  {
   "cell_type": "code",
   "execution_count": null,
   "id": "f4eb7204",
   "metadata": {},
   "outputs": [],
   "source": []
  },
  {
   "cell_type": "markdown",
   "id": "b212230f",
   "metadata": {},
   "source": [
    "### Creating the Dog Class\n",
    "Each instance created from the Dog class will store a name and an age, and we’ll give each dog the ability to sit() and roll_over():"
   ]
  },
  {
   "cell_type": "code",
   "execution_count": 17,
   "id": "35569cad",
   "metadata": {},
   "outputs": [],
   "source": [
    "class dog():\n",
    "    def __init__(self, name, age):\n",
    "        self.name=name.title()\n",
    "        self.age=age\n",
    "    def sit(self):\n",
    "        print(f\"{self.name} is now sitting\")\n",
    "    def rollover(self):\n",
    "        print(f\"{self.name} is now rolling over\")\n",
    "        "
   ]
  },
  {
   "cell_type": "code",
   "execution_count": 18,
   "id": "17b381fe",
   "metadata": {},
   "outputs": [
    {
     "name": "stdout",
     "output_type": "stream",
     "text": [
      "Shelby\n",
      "5\n",
      "Bradly\n",
      "3\n",
      "Shelby is now rolling over\n",
      "Bradly is now rolling over\n"
     ]
    }
   ],
   "source": [
    "dog1=dog(\"shelby\", 5)\n",
    "dog2=dog(\"Bradly\", 3)\n",
    "\n",
    "print(dog1.name)\n",
    "print(dog1.age)\n",
    "print(dog2.name)\n",
    "print(dog2.age)\n",
    "\n",
    "dog1.rollover()\n",
    "dog2.rollover()"
   ]
  },
  {
   "cell_type": "markdown",
   "id": "29a15f4e",
   "metadata": {},
   "source": [
    "#### Note:\n",
    "- By convention, capitalized names refer to classes in Python. \n",
    "- The parentheses in the class definition are empty because we’re creating this class from scratch.\n",
    "- All classes have a function called __init__(), which is always executed when the class is being initiated.\n",
    "- Use the __init__() function to assign values to object properties, or other operations that are necessary to do when the object is being created\n",
    "- Any variable prefixed with `self` is available to every method in the class, and we’ll also be able to access these variables through any instance created from the class.\n",
    "- The Dog class has two other methods defined: sit() and roll_over().Because these methods don’t need additional information like a name or age, we just define them to have one parameter, self."
   ]
  },
  {
   "cell_type": "markdown",
   "id": "a5779dca",
   "metadata": {},
   "source": [
    "### Restaurant: Make a class called Restaurant. The __init__() method for Restaurant should store two attributes: a restaurant_name and a cuisine_type.\n",
    "- Make a method called `describe_restaurant()` that prints name of the restrurent and the cuisine type\n",
    "- and a method called open_restaurant() that prints a message indicating that the restaurant is open.\n",
    "- Make an instance called restaurant from your class. Print the two attributes individually, and then call both methods.\n"
   ]
  },
  {
   "cell_type": "code",
   "execution_count": 27,
   "id": "bdd25e1d",
   "metadata": {},
   "outputs": [],
   "source": [
    "class Restaurant():\n",
    "    def __init__(self, name, cuisine):\n",
    "        self.name=name.title()\n",
    "        self.cuisine=cuisine\n",
    "        \n",
    "    def open_restaurant(self):\n",
    "        return(f\"{self.name} is now open.\")\n",
    "        \n",
    "    def describe_restaurant(self):\n",
    "        return(f\"{self.name} sells {self.cuisine}.\")\n",
    "        \n",
    "        \n"
   ]
  },
  {
   "cell_type": "code",
   "execution_count": 23,
   "id": "7475c372",
   "metadata": {},
   "outputs": [
    {
     "name": "stdout",
     "output_type": "stream",
     "text": [
      "Mcdonalds\n",
      "fast food\n",
      "Subway\n",
      "subs\n",
      "Mcdonalds is now open. Mcdonalds sells fast food.\n",
      "Subway is now open. Subway sells subs.\n"
     ]
    }
   ],
   "source": [
    "restaurant_1=Restaurant(\"McDonalds\", \"fast food\")\n",
    "restaurant_2=Restaurant(\"Subway\", \"subs\")\n",
    "print(restaurant_1.name)\n",
    "print(restaurant_1.cuisine)\n",
    "print(restaurant_2.name)\n",
    "print(restaurant_2.cuisine)\n",
    "\n",
    "print(restaurant_1.open_restaurant(),restaurant_1.describe_restaurant() )\n",
    "print(restaurant_2.open_restaurant(),restaurant_2.describe_restaurant() )"
   ]
  },
  {
   "cell_type": "markdown",
   "id": "2107b0af",
   "metadata": {},
   "source": [
    "### - Create three different instances from the class, and call describe_restaurant() for each instance."
   ]
  },
  {
   "cell_type": "code",
   "execution_count": 28,
   "id": "1edd6085",
   "metadata": {},
   "outputs": [],
   "source": [
    "restaurant_1=Restaurant(\"McDonalds\", \"fast food\")\n",
    "restaurant_2=Restaurant(\"Subway\", \"subs\")\n",
    "restaurant_3=Restaurant(\"Red lobster\", \"seafood\")"
   ]
  },
  {
   "cell_type": "code",
   "execution_count": 25,
   "id": "eaa838f0",
   "metadata": {},
   "outputs": [
    {
     "name": "stdout",
     "output_type": "stream",
     "text": [
      "Mcdonalds sells fast food.\n",
      "Subway sells subs.\n",
      "Red Lobster sells seafood.\n"
     ]
    }
   ],
   "source": [
    "print(restaurant_1.describe_restaurant())\n",
    "print(restaurant_2.describe_restaurant())\n",
    "print(restaurant_3.describe_restaurant())"
   ]
  },
  {
   "cell_type": "code",
   "execution_count": null,
   "id": "9df75ce0",
   "metadata": {},
   "outputs": [],
   "source": []
  },
  {
   "cell_type": "markdown",
   "id": "d6aaa807",
   "metadata": {},
   "source": [
    "### Users: Make a class called User. Create attributes called first_name and last_name, username, location \n",
    "- Make a method called describe_user() that prints a summary of the user’s information. \n",
    "- Make another method called greet_user() that prints a personalized greeting to the user.\n",
    "- Create several instances representing different users, and call both methods for each user."
   ]
  },
  {
   "cell_type": "code",
   "execution_count": 29,
   "id": "76a373ba",
   "metadata": {},
   "outputs": [
    {
     "name": "stdout",
     "output_type": "stream",
     "text": [
      "Nathan Junker's username is njunker. Nathan Junker is in Louisville\n",
      "Hello, Nathan Junker. I hope that the weather in Louisville is good today.\n",
      "\n",
      "\n",
      "Oliver Hatfield's username is olihat22. Oliver Hatfield is in London\n",
      "Hello, Oliver Hatfield. I hope that the weather in London is good today.\n",
      "\n",
      "\n",
      "Jim McCoy's username is Jimdoggy. Jim McCoy is in Tennessee\n",
      "Hello, Jim McCoy. I hope that the weather in Tennessee is good today.\n"
     ]
    }
   ],
   "source": [
    "class User():\n",
    "    def __init__(self,first, last, username, location):\n",
    "        self.first=first.title()\n",
    "        self.last=last\n",
    "        self.username=username\n",
    "        self.location=location.title()\n",
    "\n",
    "    def describe_user(self):\n",
    "        return(f\"{self.first} {self.last}\\'s username is {self.username}. {self.first} {self.last} is in {self.location}\")\n",
    "    \n",
    "    def greet_user(self):\n",
    "        return(f\"Hello, {self.first} {self.last}. I hope that the weather in {self.location} is good today.\")\n",
    "    \n",
    "user_1=User(\"Nathan\", \"Junker\", \"njunker\", \"Louisville\")\n",
    "user_2=User(\"Oliver\", \"Hatfield\", \"olihat22\", \"London\")\n",
    "user_3=User(\"Jim\", \"McCoy\", \"Jimdoggy\", \"tennessee\")\n",
    "\n",
    "print(user_1.describe_user())\n",
    "print(user_1.greet_user())\n",
    "print(\"\\n\")\n",
    "print(user_2.describe_user())\n",
    "print(user_2.greet_user())\n",
    "print(\"\\n\")\n",
    "print(user_3.describe_user())\n",
    "print(user_3.greet_user())"
   ]
  },
  {
   "cell_type": "code",
   "execution_count": null,
   "id": "66c53e99",
   "metadata": {},
   "outputs": [],
   "source": []
  },
  {
   "cell_type": "markdown",
   "id": "a2c974b3",
   "metadata": {},
   "source": [
    "## Setting a Default Value for an Attribute"
   ]
  },
  {
   "cell_type": "code",
   "execution_count": 30,
   "id": "f5807587",
   "metadata": {},
   "outputs": [],
   "source": [
    "class Car():\n",
    "    def __init__(self,make,model,year):\n",
    "        self.make=make\n",
    "        self.model=model\n",
    "        self.year=year\n",
    "        self.odometer_reading=0\n",
    "        \n",
    "    def get_descriptive_name(self):\n",
    "        long_name= str(self.year) +\" \"+ self.make +\" \"+ self.model\n",
    "        return long_name.title()\n",
    "    \n",
    "    def read_odometer(self):\n",
    "        print(f\"This car has {self.odometer_reading} miles on it.\\n\")\n",
    "        \n",
    "    def update_odometer(self, milage):\n",
    "        self.odometer_reading=milage\n",
    "    "
   ]
  },
  {
   "cell_type": "code",
   "execution_count": 31,
   "id": "feeb0347",
   "metadata": {},
   "outputs": [
    {
     "data": {
      "text/plain": [
       "'2012 Ford Focus'"
      ]
     },
     "execution_count": 31,
     "metadata": {},
     "output_type": "execute_result"
    }
   ],
   "source": [
    "my_car= Car(\"Ford\", \"Focus\", 2012)\n",
    "my_car.get_descriptive_name()"
   ]
  },
  {
   "cell_type": "code",
   "execution_count": 32,
   "id": "41f079fc",
   "metadata": {},
   "outputs": [
    {
     "name": "stdout",
     "output_type": "stream",
     "text": [
      "This car has 0 miles on it.\n",
      "\n"
     ]
    }
   ],
   "source": [
    "my_car.read_odometer()"
   ]
  },
  {
   "cell_type": "code",
   "execution_count": 33,
   "id": "6381ef53",
   "metadata": {},
   "outputs": [],
   "source": [
    "my_car.update_odometer(200)"
   ]
  },
  {
   "cell_type": "code",
   "execution_count": 34,
   "id": "608b562e",
   "metadata": {},
   "outputs": [
    {
     "name": "stdout",
     "output_type": "stream",
     "text": [
      "This car has 200 miles on it.\n",
      "\n"
     ]
    }
   ],
   "source": [
    "my_car.read_odometer()"
   ]
  },
  {
   "cell_type": "code",
   "execution_count": null,
   "id": "09528f40",
   "metadata": {},
   "outputs": [],
   "source": []
  },
  {
   "cell_type": "markdown",
   "id": "44c448a9",
   "metadata": {},
   "source": [
    "#### Modifying an Attribute’s Value Directly"
   ]
  },
  {
   "cell_type": "code",
   "execution_count": 35,
   "id": "256051f1",
   "metadata": {},
   "outputs": [
    {
     "name": "stdout",
     "output_type": "stream",
     "text": [
      "This car has 23 miles on it.\n",
      "\n"
     ]
    }
   ],
   "source": [
    "my_car.odometer_reading = 23\n",
    "my_car.read_odometer()"
   ]
  },
  {
   "cell_type": "code",
   "execution_count": null,
   "id": "1731a3a8",
   "metadata": {},
   "outputs": [],
   "source": []
  },
  {
   "cell_type": "markdown",
   "id": "569a4e4e",
   "metadata": {},
   "source": [
    "### Modifying an Attribute’s Value Through a Method"
   ]
  },
  {
   "cell_type": "code",
   "execution_count": 39,
   "id": "94d903bd",
   "metadata": {},
   "outputs": [
    {
     "name": "stdout",
     "output_type": "stream",
     "text": [
      "2016 Nissan Versa\n",
      "This car has 23 miles on it.\n"
     ]
    }
   ],
   "source": [
    "class Car():\n",
    "    def __init__(self, make, model, year):\n",
    "        self.make=make\n",
    "        self.model=model\n",
    "        self.year=year\n",
    "        self.odometer_reading=0\n",
    "\n",
    "    def get_descriptive_name(self):\n",
    "        long_name = str(self.year) + ' ' + self.make + ' ' + self.model\n",
    "        return long_name.title()\n",
    "\n",
    "    def read_odometer(self):\n",
    "        print(\"This car has \" + str(self.odometer_reading) + \" miles on it.\")\n",
    "    def update_odometer(self, mileage):\n",
    "        self.odometer_reading = mileage   \n",
    "        \n",
    "my_new_car = Car('Nissan', 'Versa', 2016)\n",
    "\n",
    "print(my_new_car.get_descriptive_name())\n",
    "my_new_car.update_odometer(23)\n",
    "my_new_car.read_odometer()"
   ]
  },
  {
   "cell_type": "code",
   "execution_count": null,
   "id": "1c6cfb55",
   "metadata": {},
   "outputs": [],
   "source": []
  },
  {
   "cell_type": "markdown",
   "id": "61123d96",
   "metadata": {},
   "source": [
    "### Incrementing an Attribute’s Value Through a Method"
   ]
  },
  {
   "cell_type": "code",
   "execution_count": null,
   "id": "c756c73c",
   "metadata": {},
   "outputs": [],
   "source": [
    "class Car():\n",
    "    def __init__(self, make, model, year):\n",
    "        self.make=make\n",
    "        self.model=model\n",
    "        self.year=year\n",
    "        self.odometer_reading=0\n",
    "\n",
    "    def get_descriptive_name(self):\n",
    "        long_name = str(self.year) + ' ' + self.make + ' ' + self.model\n",
    "        return long_name.title()\n",
    "\n",
    "    def read_odometer(self):\n",
    "        print(\"This car has \" + str(self.odometer_reading) + \" miles on it.\")\n",
    "    def update_odometer(self, mileage):\n",
    "        self.odometer_reading = mileage  \n",
    "        \n",
    "    def incremental_odometer(self,miles):\n",
    "        self.odometer_reading+=miles\n",
    "        \n",
    "my_new_car = Car('Nissan', 'Versa', 2016)\n",
    "\n",
    "print(my_new_car.get_descriptive_name())\n",
    "my_new_car.update_odometer(23)\n",
    "my_new_car.read_odometer()"
   ]
  },
  {
   "cell_type": "code",
   "execution_count": 38,
   "id": "09daab6d",
   "metadata": {},
   "outputs": [
    {
     "name": "stdout",
     "output_type": "stream",
     "text": [
      "This car has 123 miles on it.\n"
     ]
    }
   ],
   "source": [
    "my_new_car.incremental_odometer(100)\n",
    "my_new_car.read_odometer()\n"
   ]
  },
  {
   "cell_type": "markdown",
   "id": "dfa0d0a9",
   "metadata": {},
   "source": [
    "# Inheritance\n",
    "- You don’t always have to start from scratch when writing a class. If the class you’re writing is a specialized version of another class you wrote, you can use inheritance. \n",
    "- When one class inherits from another, it automatically takes on all the attributes and methods of the first class. The original class is called the `parent class`, and the new class is the `child class`. \n",
    "- The child class inherits every attribute and method from its parent class but is also free to define new attributes and methods of its own."
   ]
  },
  {
   "cell_type": "code",
   "execution_count": null,
   "id": "4ec71384",
   "metadata": {},
   "outputs": [],
   "source": []
  },
  {
   "cell_type": "code",
   "execution_count": null,
   "id": "e76b84d3",
   "metadata": {},
   "outputs": [],
   "source": []
  },
  {
   "cell_type": "code",
   "execution_count": null,
   "id": "752a3340",
   "metadata": {},
   "outputs": [],
   "source": []
  },
  {
   "cell_type": "markdown",
   "id": "286b679f",
   "metadata": {},
   "source": [
    "### Practice: Create a class named Person, with firstname and lastname properties, and a printname method:"
   ]
  },
  {
   "cell_type": "code",
   "execution_count": null,
   "id": "4b5df132",
   "metadata": {},
   "outputs": [],
   "source": []
  },
  {
   "cell_type": "code",
   "execution_count": null,
   "id": "a3c85aae",
   "metadata": {},
   "outputs": [],
   "source": []
  },
  {
   "cell_type": "code",
   "execution_count": null,
   "id": "f990da81",
   "metadata": {},
   "outputs": [],
   "source": []
  },
  {
   "cell_type": "markdown",
   "id": "f04c9e6b",
   "metadata": {},
   "source": [
    "### Create child classes called Student using Inheritance contains the first and last name and the graduation year \n",
    "- Add a method called `welcome` that prints the student graduation year\n",
    "- Test the student method for two students"
   ]
  },
  {
   "cell_type": "code",
   "execution_count": null,
   "id": "971904f9",
   "metadata": {},
   "outputs": [],
   "source": []
  },
  {
   "cell_type": "code",
   "execution_count": null,
   "id": "5371572b",
   "metadata": {},
   "outputs": [],
   "source": []
  },
  {
   "cell_type": "markdown",
   "id": "4bdbaaca",
   "metadata": {},
   "source": [
    "## Create a simple calculator using classes"
   ]
  },
  {
   "cell_type": "code",
   "execution_count": 15,
   "id": "01b1d109",
   "metadata": {},
   "outputs": [
    {
     "name": "stdout",
     "output_type": "stream",
     "text": [
      "Choose from the following menu: \n",
      "1. Addition\n",
      "2. Subtraction\n",
      "3. Multiplication\n",
      "4. Division\n",
      "5. Exit\n"
     ]
    },
    {
     "name": "stderr",
     "output_type": "stream",
     "text": [
      "\n",
      "KeyboardInterrupt\n",
      "\n"
     ]
    }
   ],
   "source": [
    "class calc():\n",
    "    def __init__(self):\n",
    "        pass\n",
    "        #elf.input1=input1\n",
    "        #elf.input2=input2\n",
    "    \n",
    "    def addition(num1, num2):\n",
    "        print(f\"Addition= {num1 +num2}\\n\")\n",
    "    \n",
    "    def subtraction(num1, num2):\n",
    "        print(f\"Subtraction= {num1 - num2}\\n\")\n",
    "        \n",
    "    def multiplication(num1, num2):\n",
    "        print(f\"Multiplication= {num1 * num2}\\n\")\n",
    "        \n",
    "    def division(num1, num2):\n",
    "        print(f\"Division = {num1 / num2}\\n\")\n",
    "        \n",
    "while True:\n",
    "    print(\"Choose from the following menu: \")\n",
    "    print(\"1. Addition\")\n",
    "    print(\"2. Subtraction\")\n",
    "    print(\"3. Multiplication\")\n",
    "    print(\"4. Division\")\n",
    "    print(\"5. Exit\")\n",
    "    \n",
    "    choice=int(input(\"Enter your choice (1-5)\\n\"))\n",
    "    \n",
    "    if choice== 1:\n",
    "        num1=int(input(\"Enter 1st number: \"))\n",
    "        num2=int(input(\"Enter 2nd number: \"))\n",
    "        calc.addition(num1,num2)\n",
    "    elif choice== 2:\n",
    "        num1=int(input(\"Enter 1st number: \"))\n",
    "        num2=int(input(\"Enter 2nd number: \"))\n",
    "        calc.subtraction(num1,num2)\n",
    "    elif choice==3:\n",
    "        num1=int(input(\"Enter 1st number: \"))\n",
    "        num2=int(input(\"Enter 2nd number: \"))\n",
    "        calc.multiplication(num1,num2)\n",
    "    elif choice==4:\n",
    "        num1=int(input(\"Enter 1st number: \"))\n",
    "        num2=int(input(\"Enter 2nd number: \"))\n",
    "        if num2== 0:\n",
    "            print(\"Infinity\")\n",
    "        else:\n",
    "            calc.division(num1,num2)\n",
    "    elif choice == 5:\n",
    "        break\n",
    "    else:\n",
    "        print(\"wrong choice\")"
   ]
  },
  {
   "cell_type": "code",
   "execution_count": null,
   "id": "23a5cd62",
   "metadata": {},
   "outputs": [],
   "source": []
  },
  {
   "cell_type": "code",
   "execution_count": null,
   "id": "a7ae27f6",
   "metadata": {},
   "outputs": [],
   "source": []
  },
  {
   "cell_type": "markdown",
   "id": "baf37272",
   "metadata": {},
   "source": [
    "## ATM machine "
   ]
  },
  {
   "cell_type": "code",
   "execution_count": null,
   "id": "ee7be7c3",
   "metadata": {},
   "outputs": [],
   "source": [
    "class ATM():\n",
    "    def __init__(self):\n",
    "        self.balance=0\n",
    "        print(\"Hello! Welcome to the ATM \\n\")\n",
    "        \n",
    "    def deposit(self):\n",
    "        amount=float(input(\"Enter amount to be deposited: \"))\n",
    "        self.balance+= amount\n",
    "        print(f\"The amount deposited: ${amount}. \\nBalance: ${self.balance}\")\n",
    "        \n",
    "    def withdraw(self):\n",
    "        amount= float(input(\"Enter an amount to be withdrawn: \"))\n",
    "        if self.balance < amount:\n",
    "            print(\"Insufficient funds\")\n",
    "        else:\n",
    "            self.balance-= amount\n",
    "            print(f'The amount withdrawn: ${amount}. \\nBalance: ${self.balance}')\n",
    "            \n",
    "    def display(self):\n",
    "        print(f\"Balance: ${self.balance}\")"
   ]
  },
  {
   "cell_type": "code",
   "execution_count": null,
   "id": "8dfe0c03",
   "metadata": {},
   "outputs": [],
   "source": [
    "my_account=ATM()\n",
    "my_account.deposit()\n",
    "\n",
    "my_account.display()"
   ]
  },
  {
   "cell_type": "code",
   "execution_count": null,
   "id": "1563bc80",
   "metadata": {},
   "outputs": [],
   "source": [
    "my_account.deposit()"
   ]
  },
  {
   "cell_type": "code",
   "execution_count": null,
   "id": "c5eb886c",
   "metadata": {},
   "outputs": [],
   "source": [
    "my_account.withdraw()"
   ]
  },
  {
   "cell_type": "code",
   "execution_count": null,
   "id": "7610855e",
   "metadata": {},
   "outputs": [],
   "source": [
    "my_account.display()"
   ]
  },
  {
   "cell_type": "code",
   "execution_count": null,
   "id": "9b7a84d0",
   "metadata": {},
   "outputs": [],
   "source": []
  }
 ],
 "metadata": {
  "kernelspec": {
   "display_name": "Python 3 (ipykernel)",
   "language": "python",
   "name": "python3"
  },
  "language_info": {
   "codemirror_mode": {
    "name": "ipython",
    "version": 3
   },
   "file_extension": ".py",
   "mimetype": "text/x-python",
   "name": "python",
   "nbconvert_exporter": "python",
   "pygments_lexer": "ipython3",
   "version": "3.9.12"
  }
 },
 "nbformat": 4,
 "nbformat_minor": 5
}
